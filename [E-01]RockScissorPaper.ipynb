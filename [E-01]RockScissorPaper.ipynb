{
 "cells": [
  {
   "cell_type": "markdown",
   "id": "ee690614",
   "metadata": {},
   "source": [
    "# 1. 각 패키지 설치 및 불러오기"
   ]
  },
  {
   "cell_type": "code",
   "execution_count": 181,
   "id": "8666b775",
   "metadata": {},
   "outputs": [],
   "source": [
    "from PIL import Image\n",
    "import glob, os\n",
    "import matplotlib.pyplot as plt\n",
    "import numpy as np\n",
    "import tensorflow as tf\n",
    "from tensorflow import keras"
   ]
  },
  {
   "cell_type": "markdown",
   "id": "a2ec15f1",
   "metadata": {},
   "source": [
    "# 2. resize하기"
   ]
  },
  {
   "cell_type": "code",
   "execution_count": 188,
   "id": "5f1c68c7",
   "metadata": {},
   "outputs": [
    {
     "name": "stdout",
     "output_type": "stream",
     "text": [
      "rock scissor paper resize finished\n"
     ]
    }
   ],
   "source": [
    "def resize_images(img_path):\n",
    "    images=glob.glob(img_path + \"/*.jpg\")  \n",
    "    \n",
    "    print(len(images), \" images to be resized.\")\n",
    "\n",
    "  # 이미지를 불러와 파일마다 모두 122사이즈로 바꾸어 저장\n",
    "    target_size=(122,122)\n",
    "    for img in images:\n",
    "        old_img=Image.open(img)\n",
    "        new_img=old_img.resize(target_size,Image.ANTIALIAS)\n",
    "        new_img.save(img, \"JPEG\")\n",
    "    \n",
    "directories = ['rock', 'scissor', 'paper']  # 3개 폴더 모두 적용\n",
    "\n",
    "# 가위 바위 보 3 폴더에 대해서 resize 진행\n",
    "for dir in directories:   # rock, scissor, paper 3개 폴더에 대해서\n",
    "    images = glob.glob(train_images_path + \"/\" + dir + \"/*.jpg\")  # 폴더 안의 모든 사진을\n",
    "    for img in images:\n",
    "        resize_image(img)   # resize\n",
    "print(\"rock scissor paper resize finished\")"
   ]
  },
  {
   "cell_type": "code",
   "execution_count": 189,
   "id": "f7ce9338",
   "metadata": {},
   "outputs": [
    {
     "name": "stdout",
     "output_type": "stream",
     "text": [
      "학습데이터(x_train)의 이미지 개수는 1500 입니다.\n",
      "x_train shape: (1500, 122, 122, 3)\n",
      "y_train shape: (1500,)\n"
     ]
    }
   ],
   "source": [
    "def load_data(img_path, number_of_data=1500):  # 가위바위보 이미지 개수 총합에 주의하세요.\n",
    "    #라벨링 -> 가위 : 0, 바위 : 1, 보 : 2\n",
    "    img_size=122\n",
    "    color=3\n",
    "    \n",
    "    #이미지 데이터와 라벨(가위 : 0, 바위 : 1, 보 : 2) 데이터를 담을 행렬(matrix) 영역을 생성합니다.\n",
    "    imgs=np.zeros(number_of_data*img_size*img_size*color,dtype=np.int32).reshape(number_of_data,img_size,img_size,color)\n",
    "    labels=np.zeros(number_of_data,dtype=np.int32)\n",
    "\n",
    "    idx=0\n",
    "    for file in glob.iglob(img_path+'/scissor/*.jpg'):\n",
    "        img = np.array(Image.open(file),dtype=np.int32)\n",
    "        imgs[idx,:,:,:]=img    # 데이터 영역에 이미지 행렬을 복사\n",
    "        labels[idx]=0   # 가위 : 0\n",
    "        idx=idx+1\n",
    "\n",
    "    for file in glob.iglob(img_path+'/rock/*.jpg'):\n",
    "        img = np.array(Image.open(file),dtype=np.int32)\n",
    "        imgs[idx,:,:,:]=img    # 데이터 영역에 이미지 행렬을 복사\n",
    "        labels[idx]=1   # 바위 : 1\n",
    "        idx=idx+1  \n",
    "    \n",
    "    for file in glob.iglob(img_path+'/paper/*.jpg'):\n",
    "        img = np.array(Image.open(file),dtype=np.int32)\n",
    "        imgs[idx,:,:,:]=img    # 데이터 영역에 이미지 행렬을 복사\n",
    "        labels[idx]=2   # 보 : 2\n",
    "        idx=idx+1\n",
    "        \n",
    "    print(\"학습데이터(x_train)의 이미지 개수는\", idx,\"입니다.\")\n",
    "    return imgs, labels\n",
    "\n",
    "image_dir_path = os.getenv(\"HOME\") + \"/aiffel/rock_scissor_paper/train\"\n",
    "(x_train, y_train)=load_data(image_dir_path)\n",
    "x_train_norm = x_train/255.0   # 입력은 0~1 사이의 값으로 정규화\n",
    "\n",
    "print(\"x_train shape: {}\".format(x_train.shape))\n",
    "print(\"y_train shape: {}\".format(y_train.shape))"
   ]
  },
  {
   "cell_type": "markdown",
   "id": "c15246f5",
   "metadata": {},
   "source": [
    "# 3. 네트워크 설계하기"
   ]
  },
  {
   "cell_type": "code",
   "execution_count": 190,
   "id": "42385208",
   "metadata": {},
   "outputs": [
    {
     "name": "stdout",
     "output_type": "stream",
     "text": [
      "Model: \"sequential_18\"\n",
      "_________________________________________________________________\n",
      "Layer (type)                 Output Shape              Param #   \n",
      "=================================================================\n",
      "conv2d_34 (Conv2D)           (None, 120, 120, 64)      1792      \n",
      "_________________________________________________________________\n",
      "max_pooling2d_32 (MaxPooling (None, 60, 60, 64)        0         \n",
      "_________________________________________________________________\n",
      "conv2d_35 (Conv2D)           (None, 58, 58, 128)       73856     \n",
      "_________________________________________________________________\n",
      "max_pooling2d_33 (MaxPooling (None, 29, 29, 128)       0         \n",
      "_________________________________________________________________\n",
      "flatten_16 (Flatten)         (None, 107648)            0         \n",
      "_________________________________________________________________\n",
      "dense_32 (Dense)             (None, 256)               27558144  \n",
      "_________________________________________________________________\n",
      "dense_33 (Dense)             (None, 3)                 771       \n",
      "=================================================================\n",
      "Total params: 27,634,563\n",
      "Trainable params: 27,634,563\n",
      "Non-trainable params: 0\n",
      "_________________________________________________________________\n"
     ]
    }
   ],
   "source": [
    "model = keras.models.Sequential()\n",
    "model.add(keras.layers.Conv2D(64, (3, 3), activation = 'relu', input_shape=(122, 122, 3)))\n",
    "model.add(keras.layers.MaxPooling2D(2, 2))\n",
    "model.add(keras.layers.Conv2D(128, (3, 3), activation = 'relu'))\n",
    "model.add(keras.layers.MaxPooling2D(2, 2))\n",
    "model.add(keras.layers.Flatten())\n",
    "model.add(keras.layers.Dense(256, activation = 'relu')) \n",
    "model.add(keras.layers.Dense(3, activation = 'softmax'))\n",
    "\n",
    "model.summary()"
   ]
  },
  {
   "cell_type": "markdown",
   "id": "9361cd81",
   "metadata": {},
   "source": [
    "# 4. 네트워크 학습"
   ]
  },
  {
   "cell_type": "code",
   "execution_count": 191,
   "id": "2170ad43",
   "metadata": {},
   "outputs": [
    {
     "name": "stdout",
     "output_type": "stream",
     "text": [
      "Epoch 1/10\n",
      "47/47 [==============================] - 2s 27ms/step - loss: 0.3310 - accuracy: 0.9440\n",
      "Epoch 2/10\n",
      "47/47 [==============================] - 1s 27ms/step - loss: 4.7684e-10 - accuracy: 1.0000\n",
      "Epoch 3/10\n",
      "47/47 [==============================] - 1s 27ms/step - loss: 0.0000e+00 - accuracy: 1.0000\n",
      "Epoch 4/10\n",
      "47/47 [==============================] - 1s 27ms/step - loss: 0.0000e+00 - accuracy: 1.0000\n",
      "Epoch 5/10\n",
      "47/47 [==============================] - 1s 27ms/step - loss: 0.0000e+00 - accuracy: 1.0000\n",
      "Epoch 6/10\n",
      "47/47 [==============================] - 1s 27ms/step - loss: 0.0000e+00 - accuracy: 1.0000\n",
      "Epoch 7/10\n",
      "47/47 [==============================] - 1s 27ms/step - loss: 0.0000e+00 - accuracy: 1.0000\n",
      "Epoch 8/10\n",
      "47/47 [==============================] - 1s 27ms/step - loss: 0.0000e+00 - accuracy: 1.0000\n",
      "Epoch 9/10\n",
      "47/47 [==============================] - 1s 27ms/step - loss: 0.0000e+00 - accuracy: 1.0000\n",
      "Epoch 10/10\n",
      "47/47 [==============================] - 1s 27ms/step - loss: 0.0000e+00 - accuracy: 1.0000\n"
     ]
    },
    {
     "data": {
      "text/plain": [
       "<keras.callbacks.History at 0x7f39087e0d30>"
      ]
     },
     "execution_count": 191,
     "metadata": {},
     "output_type": "execute_result"
    }
   ],
   "source": [
    "model.compile(optimizer='adam', \n",
    "              loss='sparse_categorical_crossentropy', \n",
    "              metrics=['accuracy'])\n",
    "model.fit(x_train_norm, y_train, epochs=10)"
   ]
  },
  {
   "cell_type": "markdown",
   "id": "dda59538",
   "metadata": {},
   "source": [
    "# 4. 테스트 해보기"
   ]
  },
  {
   "cell_type": "code",
   "execution_count": 194,
   "id": "acf3ab50",
   "metadata": {},
   "outputs": [
    {
     "name": "stdout",
     "output_type": "stream",
     "text": [
      "rock scissor paper resize finished\n",
      "학습데이터(x_train)의 이미지 개수는 300 입니다.\n",
      "x_test shape: (300, 122, 122, 3)\n",
      "y_test shape: (300,)\n"
     ]
    }
   ],
   "source": [
    "# 가위 바위 보 3 폴더에 대해서 resize 진행\n",
    "for dir in directories:   # rock, scissor, paper 3개 폴더에 대해서\n",
    "    images = glob.glob(train_images_path + \"/\" + dir + \"/*.jpg\")\n",
    "    for img in images:\n",
    "        resize_image(img)   # resize\n",
    "print(\"rock scissor paper resize finished\")\n",
    "\n",
    "#가위, 바위, 보 데이터를 읽을 수 있는 load_data() 함수로 데이터 불러오기\n",
    "image_dir_path = os.getenv(\"HOME\") + \"/aiffel/rock_scissor_paper/test\"\n",
    "(x_test, y_test)=load_data(image_dir_path, 300) #x_test,y_test만들기\n",
    "x_test_norm = x_test/255.0 \n",
    "\n",
    "print(\"x_test shape: {}\".format(x_test.shape))\n",
    "print(\"y_test shape: {}\".format(y_test.shape))"
   ]
  },
  {
   "cell_type": "code",
   "execution_count": 195,
   "id": "3102bd0d",
   "metadata": {},
   "outputs": [
    {
     "name": "stdout",
     "output_type": "stream",
     "text": [
      "10/10 - 0s - loss: 0.0000e+00 - accuracy: 1.0000\n",
      "test_loss : 0.0\n",
      "test_accuracy : 1.0\n"
     ]
    }
   ],
   "source": [
    "test_loss, test_accuracy = model.evaluate(x_test, y_test, verbose = 2)\n",
    "\n",
    "print(\"test_loss : {}\".format(test_loss))\n",
    "print(\"test_accuracy : {}\".format(test_accuracy))"
   ]
  },
  {
   "cell_type": "markdown",
   "id": "8c21b70b",
   "metadata": {},
   "source": [
    "# 회고\n",
    "\n",
    "첫 익스인데도 너무 어렵게 느껴졌다. 어떻게 해야할지 모르겠어서 조원들이랑 얘기를 해봤다. 거기에서 여러가지 아이디어를 얻어 다양한 시도를 해보았다.\n",
    "\n",
    "1. 데이터의 사이즈는 크게 키웠다.\n",
    "2. 훈련 데이터셋의 양을 늘려봤다.\n",
    "3. 하이퍼 파라미터의 값을 키웠다.\n",
    "4. 원본 사진 자체의 환경을 잘 찍었다.(검은색 바탕에 손만 있게 해 봤다.)\n",
    "\n",
    "위의 네가지를 모두 해본 결과 정확도가 모두 올랐다.\n",
    "\n",
    "-과제를 진행하면서 아쉬웠던점-\n",
    "\n",
    "1. 코드를 더 간결하게 짤 수는 없었나? 라는 생각이 든다. 더 간결하고 가독성도 좋게 할 수 있을 거 같은데 아쉽게 느껴진다.\n",
    "\n",
    "2. 위의 4가지 말고도 정확도를 높이는 방법을 생각하지 않았다. 여러가지 방법이 더 있었을 텐데 과제를 다했다는 안도감에 더 시도해 보지않았다.\n",
    "\n",
    "3. 원본 사진을 너무 깔끔하게 찍었다. 분명 실제 사용할 때는 좋은 환경에서 찍힌 데이터들이 거의 없을 텐데 좋은 환경을 배경으로 찍어버렸다. 과제라는 압박감이 있었나보다.\n",
    "\n",
    "시간을 들여서 아쉬웠던 점에 대해서 더 생각하고 해결해 봐야되겠다.\n",
    "\n",
    "2022-01-11"
   ]
  }
 ],
 "metadata": {
  "kernelspec": {
   "display_name": "Python 3 (ipykernel)",
   "language": "python",
   "name": "python3"
  },
  "language_info": {
   "codemirror_mode": {
    "name": "ipython",
    "version": 3
   },
   "file_extension": ".py",
   "mimetype": "text/x-python",
   "name": "python",
   "nbconvert_exporter": "python",
   "pygments_lexer": "ipython3",
   "version": "3.9.7"
  }
 },
 "nbformat": 4,
 "nbformat_minor": 5
}
