{
 "cells": [
  {
   "cell_type": "markdown",
   "id": "9fde5221",
   "metadata": {},
   "source": [
    "## 데이터 준비와 전처리"
   ]
  },
  {
   "cell_type": "code",
   "execution_count": 1,
   "id": "8cb6f728",
   "metadata": {},
   "outputs": [
    {
     "data": {
      "text/html": [
       "<div>\n",
       "<style scoped>\n",
       "    .dataframe tbody tr th:only-of-type {\n",
       "        vertical-align: middle;\n",
       "    }\n",
       "\n",
       "    .dataframe tbody tr th {\n",
       "        vertical-align: top;\n",
       "    }\n",
       "\n",
       "    .dataframe thead th {\n",
       "        text-align: right;\n",
       "    }\n",
       "</style>\n",
       "<table border=\"1\" class=\"dataframe\">\n",
       "  <thead>\n",
       "    <tr style=\"text-align: right;\">\n",
       "      <th></th>\n",
       "      <th>user_id</th>\n",
       "      <th>movie_id</th>\n",
       "      <th>ratings</th>\n",
       "      <th>timestamp</th>\n",
       "    </tr>\n",
       "  </thead>\n",
       "  <tbody>\n",
       "    <tr>\n",
       "      <th>0</th>\n",
       "      <td>1</td>\n",
       "      <td>1193</td>\n",
       "      <td>5</td>\n",
       "      <td>978300760</td>\n",
       "    </tr>\n",
       "    <tr>\n",
       "      <th>1</th>\n",
       "      <td>1</td>\n",
       "      <td>661</td>\n",
       "      <td>3</td>\n",
       "      <td>978302109</td>\n",
       "    </tr>\n",
       "    <tr>\n",
       "      <th>2</th>\n",
       "      <td>1</td>\n",
       "      <td>914</td>\n",
       "      <td>3</td>\n",
       "      <td>978301968</td>\n",
       "    </tr>\n",
       "    <tr>\n",
       "      <th>3</th>\n",
       "      <td>1</td>\n",
       "      <td>3408</td>\n",
       "      <td>4</td>\n",
       "      <td>978300275</td>\n",
       "    </tr>\n",
       "    <tr>\n",
       "      <th>4</th>\n",
       "      <td>1</td>\n",
       "      <td>2355</td>\n",
       "      <td>5</td>\n",
       "      <td>978824291</td>\n",
       "    </tr>\n",
       "    <tr>\n",
       "      <th>5</th>\n",
       "      <td>1</td>\n",
       "      <td>1197</td>\n",
       "      <td>3</td>\n",
       "      <td>978302268</td>\n",
       "    </tr>\n",
       "    <tr>\n",
       "      <th>6</th>\n",
       "      <td>1</td>\n",
       "      <td>1287</td>\n",
       "      <td>5</td>\n",
       "      <td>978302039</td>\n",
       "    </tr>\n",
       "    <tr>\n",
       "      <th>7</th>\n",
       "      <td>1</td>\n",
       "      <td>2804</td>\n",
       "      <td>5</td>\n",
       "      <td>978300719</td>\n",
       "    </tr>\n",
       "    <tr>\n",
       "      <th>8</th>\n",
       "      <td>1</td>\n",
       "      <td>594</td>\n",
       "      <td>4</td>\n",
       "      <td>978302268</td>\n",
       "    </tr>\n",
       "    <tr>\n",
       "      <th>9</th>\n",
       "      <td>1</td>\n",
       "      <td>919</td>\n",
       "      <td>4</td>\n",
       "      <td>978301368</td>\n",
       "    </tr>\n",
       "  </tbody>\n",
       "</table>\n",
       "</div>"
      ],
      "text/plain": [
       "   user_id  movie_id  ratings  timestamp\n",
       "0        1      1193        5  978300760\n",
       "1        1       661        3  978302109\n",
       "2        1       914        3  978301968\n",
       "3        1      3408        4  978300275\n",
       "4        1      2355        5  978824291\n",
       "5        1      1197        3  978302268\n",
       "6        1      1287        5  978302039\n",
       "7        1      2804        5  978300719\n",
       "8        1       594        4  978302268\n",
       "9        1       919        4  978301368"
      ]
     },
     "execution_count": 1,
     "metadata": {},
     "output_type": "execute_result"
    }
   ],
   "source": [
    "import os\n",
    "import pandas as pd\n",
    "import numpy as np\n",
    "from implicit.als import AlternatingLeastSquares\n",
    "from scipy.sparse import csr_matrix\n",
    "\n",
    "\n",
    "rating_file_path=os.getenv('HOME') + '/aiffel/recommendata_iu/data/ml-1m/ratings.dat'\n",
    "ratings_cols = ['user_id', 'movie_id', 'ratings', 'timestamp']\n",
    "ratings = pd.read_csv(rating_file_path, sep='::', names=ratings_cols, engine='python', encoding = \"ISO-8859-1\")\n",
    "orginal_data_size = len(ratings)\n",
    "ratings.head(10)"
   ]
  },
  {
   "cell_type": "code",
   "execution_count": 2,
   "id": "b3259267",
   "metadata": {},
   "outputs": [
    {
     "name": "stdout",
     "output_type": "stream",
     "text": [
      "orginal_data_size: 1000209, filtered_data_size: 836478\n",
      "Ratio of Remaining Data is 83.63%\n"
     ]
    }
   ],
   "source": [
    "# 3점 이상만 남깁니다.\n",
    "ratings = ratings[ratings['ratings']>=3]\n",
    "filtered_data_size = len(ratings)\n",
    "\n",
    "print(f'orginal_data_size: {orginal_data_size}, filtered_data_size: {filtered_data_size}')\n",
    "print(f'Ratio of Remaining Data is {filtered_data_size / orginal_data_size:.2%}')"
   ]
  },
  {
   "cell_type": "code",
   "execution_count": 3,
   "id": "b9eb3a90",
   "metadata": {},
   "outputs": [],
   "source": [
    "# ratings 컬럼의 이름을 counts로 바꿉니다.\n",
    "ratings.rename(columns={'ratings':'counts'}, inplace=True)"
   ]
  },
  {
   "cell_type": "code",
   "execution_count": 4,
   "id": "28762dcf",
   "metadata": {},
   "outputs": [
    {
     "data": {
      "text/html": [
       "<div>\n",
       "<style scoped>\n",
       "    .dataframe tbody tr th:only-of-type {\n",
       "        vertical-align: middle;\n",
       "    }\n",
       "\n",
       "    .dataframe tbody tr th {\n",
       "        vertical-align: top;\n",
       "    }\n",
       "\n",
       "    .dataframe thead th {\n",
       "        text-align: right;\n",
       "    }\n",
       "</style>\n",
       "<table border=\"1\" class=\"dataframe\">\n",
       "  <thead>\n",
       "    <tr style=\"text-align: right;\">\n",
       "      <th></th>\n",
       "      <th>user_id</th>\n",
       "      <th>movie_id</th>\n",
       "      <th>counts</th>\n",
       "    </tr>\n",
       "  </thead>\n",
       "  <tbody>\n",
       "    <tr>\n",
       "      <th>0</th>\n",
       "      <td>1</td>\n",
       "      <td>1193</td>\n",
       "      <td>5</td>\n",
       "    </tr>\n",
       "    <tr>\n",
       "      <th>1</th>\n",
       "      <td>1</td>\n",
       "      <td>661</td>\n",
       "      <td>3</td>\n",
       "    </tr>\n",
       "    <tr>\n",
       "      <th>2</th>\n",
       "      <td>1</td>\n",
       "      <td>914</td>\n",
       "      <td>3</td>\n",
       "    </tr>\n",
       "    <tr>\n",
       "      <th>3</th>\n",
       "      <td>1</td>\n",
       "      <td>3408</td>\n",
       "      <td>4</td>\n",
       "    </tr>\n",
       "    <tr>\n",
       "      <th>4</th>\n",
       "      <td>1</td>\n",
       "      <td>2355</td>\n",
       "      <td>5</td>\n",
       "    </tr>\n",
       "    <tr>\n",
       "      <th>...</th>\n",
       "      <td>...</td>\n",
       "      <td>...</td>\n",
       "      <td>...</td>\n",
       "    </tr>\n",
       "    <tr>\n",
       "      <th>1000203</th>\n",
       "      <td>6040</td>\n",
       "      <td>1090</td>\n",
       "      <td>3</td>\n",
       "    </tr>\n",
       "    <tr>\n",
       "      <th>1000205</th>\n",
       "      <td>6040</td>\n",
       "      <td>1094</td>\n",
       "      <td>5</td>\n",
       "    </tr>\n",
       "    <tr>\n",
       "      <th>1000206</th>\n",
       "      <td>6040</td>\n",
       "      <td>562</td>\n",
       "      <td>5</td>\n",
       "    </tr>\n",
       "    <tr>\n",
       "      <th>1000207</th>\n",
       "      <td>6040</td>\n",
       "      <td>1096</td>\n",
       "      <td>4</td>\n",
       "    </tr>\n",
       "    <tr>\n",
       "      <th>1000208</th>\n",
       "      <td>6040</td>\n",
       "      <td>1097</td>\n",
       "      <td>4</td>\n",
       "    </tr>\n",
       "  </tbody>\n",
       "</table>\n",
       "<p>836478 rows × 3 columns</p>\n",
       "</div>"
      ],
      "text/plain": [
       "         user_id  movie_id  counts\n",
       "0              1      1193       5\n",
       "1              1       661       3\n",
       "2              1       914       3\n",
       "3              1      3408       4\n",
       "4              1      2355       5\n",
       "...          ...       ...     ...\n",
       "1000203     6040      1090       3\n",
       "1000205     6040      1094       5\n",
       "1000206     6040       562       5\n",
       "1000207     6040      1096       4\n",
       "1000208     6040      1097       4\n",
       "\n",
       "[836478 rows x 3 columns]"
      ]
     },
     "execution_count": 4,
     "metadata": {},
     "output_type": "execute_result"
    }
   ],
   "source": [
    "ratings = ratings[['user_id', 'movie_id', 'counts']]\n",
    "ratings"
   ]
  },
  {
   "cell_type": "code",
   "execution_count": 5,
   "id": "070b4fee",
   "metadata": {},
   "outputs": [
    {
     "data": {
      "text/html": [
       "<div>\n",
       "<style scoped>\n",
       "    .dataframe tbody tr th:only-of-type {\n",
       "        vertical-align: middle;\n",
       "    }\n",
       "\n",
       "    .dataframe tbody tr th {\n",
       "        vertical-align: top;\n",
       "    }\n",
       "\n",
       "    .dataframe thead th {\n",
       "        text-align: right;\n",
       "    }\n",
       "</style>\n",
       "<table border=\"1\" class=\"dataframe\">\n",
       "  <thead>\n",
       "    <tr style=\"text-align: right;\">\n",
       "      <th></th>\n",
       "      <th>movie_id</th>\n",
       "      <th>title</th>\n",
       "      <th>genre</th>\n",
       "    </tr>\n",
       "  </thead>\n",
       "  <tbody>\n",
       "    <tr>\n",
       "      <th>0</th>\n",
       "      <td>1</td>\n",
       "      <td>Toy Story (1995)</td>\n",
       "      <td>Animation|Children's|Comedy</td>\n",
       "    </tr>\n",
       "    <tr>\n",
       "      <th>1</th>\n",
       "      <td>2</td>\n",
       "      <td>Jumanji (1995)</td>\n",
       "      <td>Adventure|Children's|Fantasy</td>\n",
       "    </tr>\n",
       "    <tr>\n",
       "      <th>2</th>\n",
       "      <td>3</td>\n",
       "      <td>Grumpier Old Men (1995)</td>\n",
       "      <td>Comedy|Romance</td>\n",
       "    </tr>\n",
       "    <tr>\n",
       "      <th>3</th>\n",
       "      <td>4</td>\n",
       "      <td>Waiting to Exhale (1995)</td>\n",
       "      <td>Comedy|Drama</td>\n",
       "    </tr>\n",
       "    <tr>\n",
       "      <th>4</th>\n",
       "      <td>5</td>\n",
       "      <td>Father of the Bride Part II (1995)</td>\n",
       "      <td>Comedy</td>\n",
       "    </tr>\n",
       "  </tbody>\n",
       "</table>\n",
       "</div>"
      ],
      "text/plain": [
       "   movie_id                               title                         genre\n",
       "0         1                    Toy Story (1995)   Animation|Children's|Comedy\n",
       "1         2                      Jumanji (1995)  Adventure|Children's|Fantasy\n",
       "2         3             Grumpier Old Men (1995)                Comedy|Romance\n",
       "3         4            Waiting to Exhale (1995)                  Comedy|Drama\n",
       "4         5  Father of the Bride Part II (1995)                        Comedy"
      ]
     },
     "execution_count": 5,
     "metadata": {},
     "output_type": "execute_result"
    }
   ],
   "source": [
    "# 영화 제목을 보기 위해 메타 데이터를 읽어옵니다.\n",
    "movie_file_path=os.getenv('HOME') + '/aiffel/recommendata_iu/data/ml-1m/movies.dat'\n",
    "cols = ['movie_id', 'title', 'genre'] \n",
    "movies = pd.read_csv(movie_file_path, sep='::', names=cols, engine='python', encoding='ISO-8859-1')\n",
    "movies.head()"
   ]
  },
  {
   "cell_type": "markdown",
   "id": "46ce0b50",
   "metadata": {},
   "source": [
    "## 데이터 분석"
   ]
  },
  {
   "cell_type": "code",
   "execution_count": 6,
   "id": "b93bc3d6",
   "metadata": {},
   "outputs": [
    {
     "data": {
      "text/plain": [
       "3628"
      ]
     },
     "execution_count": 6,
     "metadata": {},
     "output_type": "execute_result"
    }
   ],
   "source": [
    "#ratings에 있는 유니크한 영화 개수\n",
    "ratings['movie_id'].nunique()"
   ]
  },
  {
   "cell_type": "code",
   "execution_count": 7,
   "id": "5315f305",
   "metadata": {},
   "outputs": [
    {
     "data": {
      "text/plain": [
       "6039"
      ]
     },
     "execution_count": 7,
     "metadata": {},
     "output_type": "execute_result"
    }
   ],
   "source": [
    "# ratings에 있는 유니크한 사용자 수\n",
    "ratings['user_id'].nunique()"
   ]
  },
  {
   "cell_type": "code",
   "execution_count": 8,
   "id": "b039fe33",
   "metadata": {},
   "outputs": [
    {
     "data": {
      "text/plain": [
       "title\n",
       "American Beauty (1999)                                   3211\n",
       "Star Wars: Episode IV - A New Hope (1977)                2910\n",
       "Star Wars: Episode V - The Empire Strikes Back (1980)    2885\n",
       "Star Wars: Episode VI - Return of the Jedi (1983)        2716\n",
       "Saving Private Ryan (1998)                               2561\n",
       "Terminator 2: Judgment Day (1991)                        2509\n",
       "Silence of the Lambs, The (1991)                         2498\n",
       "Raiders of the Lost Ark (1981)                           2473\n",
       "Back to the Future (1985)                                2460\n",
       "Matrix, The (1999)                                       2434\n",
       "Jurassic Park (1993)                                     2413\n",
       "Sixth Sense, The (1999)                                  2385\n",
       "Fargo (1996)                                             2371\n",
       "Braveheart (1995)                                        2314\n",
       "Men in Black (1997)                                      2297\n",
       "Schindler's List (1993)                                  2257\n",
       "Princess Bride, The (1987)                               2252\n",
       "Shakespeare in Love (1998)                               2213\n",
       "L.A. Confidential (1997)                                 2210\n",
       "Shawshank Redemption, The (1994)                         2194\n",
       "Godfather, The (1972)                                    2167\n",
       "Groundhog Day (1993)                                     2121\n",
       "E.T. the Extra-Terrestrial (1982)                        2102\n",
       "Being John Malkovich (1999)                              2066\n",
       "Ghostbusters (1984)                                      2051\n",
       "Pulp Fiction (1994)                                      2030\n",
       "Forrest Gump (1994)                                      2022\n",
       "Terminator, The (1984)                                   2019\n",
       "Toy Story (1995)                                         2000\n",
       "Fugitive, The (1993)                                     1941\n",
       "Name: counts, dtype: int64"
      ]
     },
     "execution_count": 8,
     "metadata": {},
     "output_type": "execute_result"
    }
   ],
   "source": [
    "# 가장 인기있는 영화 30개(인기순)\n",
    "movie_data = pd.merge(ratings, movies)\n",
    "movie_count = movie_data.groupby('title')['counts'].count()\n",
    "movie_count.sort_values(ascending=False).head(30)"
   ]
  },
  {
   "cell_type": "markdown",
   "id": "22d567af",
   "metadata": {},
   "source": [
    "## 선호하는 영화를 골라서 ratings에 추가"
   ]
  },
  {
   "cell_type": "code",
   "execution_count": 9,
   "id": "18385f1c",
   "metadata": {},
   "outputs": [
    {
     "data": {
      "text/html": [
       "<div>\n",
       "<style scoped>\n",
       "    .dataframe tbody tr th:only-of-type {\n",
       "        vertical-align: middle;\n",
       "    }\n",
       "\n",
       "    .dataframe tbody tr th {\n",
       "        vertical-align: top;\n",
       "    }\n",
       "\n",
       "    .dataframe thead th {\n",
       "        text-align: right;\n",
       "    }\n",
       "</style>\n",
       "<table border=\"1\" class=\"dataframe\">\n",
       "  <thead>\n",
       "    <tr style=\"text-align: right;\">\n",
       "      <th></th>\n",
       "      <th>user_id</th>\n",
       "      <th>movie_id</th>\n",
       "      <th>counts</th>\n",
       "    </tr>\n",
       "  </thead>\n",
       "  <tbody>\n",
       "    <tr>\n",
       "      <th>1000203</th>\n",
       "      <td>6040</td>\n",
       "      <td>1090</td>\n",
       "      <td>3</td>\n",
       "    </tr>\n",
       "    <tr>\n",
       "      <th>1000205</th>\n",
       "      <td>6040</td>\n",
       "      <td>1094</td>\n",
       "      <td>5</td>\n",
       "    </tr>\n",
       "    <tr>\n",
       "      <th>1000206</th>\n",
       "      <td>6040</td>\n",
       "      <td>562</td>\n",
       "      <td>5</td>\n",
       "    </tr>\n",
       "    <tr>\n",
       "      <th>1000207</th>\n",
       "      <td>6040</td>\n",
       "      <td>1096</td>\n",
       "      <td>4</td>\n",
       "    </tr>\n",
       "    <tr>\n",
       "      <th>1000208</th>\n",
       "      <td>6040</td>\n",
       "      <td>1097</td>\n",
       "      <td>4</td>\n",
       "    </tr>\n",
       "    <tr>\n",
       "      <th>0</th>\n",
       "      <td>6041</td>\n",
       "      <td>2008</td>\n",
       "      <td>5</td>\n",
       "    </tr>\n",
       "    <tr>\n",
       "      <th>1</th>\n",
       "      <td>6041</td>\n",
       "      <td>2016</td>\n",
       "      <td>5</td>\n",
       "    </tr>\n",
       "    <tr>\n",
       "      <th>2</th>\n",
       "      <td>6041</td>\n",
       "      <td>2013</td>\n",
       "      <td>5</td>\n",
       "    </tr>\n",
       "    <tr>\n",
       "      <th>3</th>\n",
       "      <td>6041</td>\n",
       "      <td>2010</td>\n",
       "      <td>5</td>\n",
       "    </tr>\n",
       "    <tr>\n",
       "      <th>4</th>\n",
       "      <td>6041</td>\n",
       "      <td>2014</td>\n",
       "      <td>5</td>\n",
       "    </tr>\n",
       "  </tbody>\n",
       "</table>\n",
       "</div>"
      ],
      "text/plain": [
       "         user_id  movie_id  counts\n",
       "1000203     6040      1090       3\n",
       "1000205     6040      1094       5\n",
       "1000206     6040       562       5\n",
       "1000207     6040      1096       4\n",
       "1000208     6040      1097       4\n",
       "0           6041      2008       5\n",
       "1           6041      2016       5\n",
       "2           6041      2013       5\n",
       "3           6041      2010       5\n",
       "4           6041      2014       5"
      ]
     },
     "execution_count": 9,
     "metadata": {},
     "output_type": "execute_result"
    }
   ],
   "source": [
    "my_favorite = [2008, 2016, 2013, 2010, 2014]\n",
    "my_favorite_movies = pd.DataFrame({'user_id': [6041]*5,'movie_id': my_favorite, 'counts': [5]*5})\n",
    "\n",
    "if not ratings.isin({'user_id': [6041]})['user_id'].any():\n",
    "    ratings = ratings.append(my_favorite_movies)\n",
    "\n",
    "ratings.tail(10)"
   ]
  },
  {
   "cell_type": "markdown",
   "id": "4994ed40",
   "metadata": {},
   "source": [
    "## CSR matrix 만들기"
   ]
  },
  {
   "cell_type": "code",
   "execution_count": 10,
   "id": "94fcb342",
   "metadata": {},
   "outputs": [],
   "source": [
    "num_movie = ratings['movie_id'].nunique()\n",
    "num_user = ratings['user_id'].nunique()"
   ]
  },
  {
   "cell_type": "code",
   "execution_count": 11,
   "id": "f60c91bd",
   "metadata": {},
   "outputs": [
    {
     "data": {
      "text/plain": [
       "<6042x3953 sparse matrix of type '<class 'numpy.int64'>'\n",
       "\twith 836483 stored elements in Compressed Sparse Row format>"
      ]
     },
     "execution_count": 11,
     "metadata": {},
     "output_type": "execute_result"
    }
   ],
   "source": [
    "csr_data = csr_matrix((ratings['counts'], (ratings['user_id'], ratings['movie_id'])))\n",
    "csr_data"
   ]
  },
  {
   "cell_type": "markdown",
   "id": "0c52fff8",
   "metadata": {},
   "source": [
    "## als_model = ALternationgLeastSquares 모델 구성"
   ]
  },
  {
   "cell_type": "code",
   "execution_count": 12,
   "id": "c7f991ad",
   "metadata": {},
   "outputs": [],
   "source": [
    "# implicit 라이브러리에서 권장하고 있는 부분입니다. 학습 내용과는 무관합니다.\n",
    "os.environ['OPENBLAS_NUM_THREADS']='1'\n",
    "os.environ['KMP_DUPLICATE_LIB_OK']='True'\n",
    "os.environ['MKL_NUM_THREADS']='1'"
   ]
  },
  {
   "cell_type": "code",
   "execution_count": 13,
   "id": "11cd603c",
   "metadata": {},
   "outputs": [],
   "source": [
    "# Implicit AlternatingLeastSquares 모델의 선언\n",
    "als_model = AlternatingLeastSquares(factors=100, regularization=0.01, use_gpu=False, iterations=15, dtype=np.float32)"
   ]
  },
  {
   "cell_type": "code",
   "execution_count": 14,
   "id": "bd851fbf",
   "metadata": {},
   "outputs": [
    {
     "data": {
      "text/plain": [
       "<3953x6042 sparse matrix of type '<class 'numpy.int64'>'\n",
       "\twith 836483 stored elements in Compressed Sparse Column format>"
      ]
     },
     "execution_count": 14,
     "metadata": {},
     "output_type": "execute_result"
    }
   ],
   "source": [
    "# als 모델은 input으로 (item X user 꼴의 matrix를 받기 때문에 Transpose해줍니다.)\n",
    "csr_data_transpose = csr_data.T\n",
    "csr_data_transpose"
   ]
  },
  {
   "cell_type": "code",
   "execution_count": 15,
   "id": "7b096a4d",
   "metadata": {},
   "outputs": [
    {
     "data": {
      "application/vnd.jupyter.widget-view+json": {
       "model_id": "4a4225da47ac4b339e65d8b45df2ad61",
       "version_major": 2,
       "version_minor": 0
      },
      "text/plain": [
       "  0%|          | 0/15 [00:00<?, ?it/s]"
      ]
     },
     "metadata": {},
     "output_type": "display_data"
    }
   ],
   "source": [
    "# 모델 훈련\n",
    "als_model.fit(csr_data_transpose)"
   ]
  },
  {
   "cell_type": "code",
   "execution_count": 16,
   "id": "eda1261c",
   "metadata": {},
   "outputs": [],
   "source": [
    "movie_vector, my_favorite_vector = als_model.user_factors[6041], als_model.item_factors[2008]"
   ]
  },
  {
   "cell_type": "code",
   "execution_count": 18,
   "id": "0f023c74",
   "metadata": {},
   "outputs": [
    {
     "data": {
      "text/plain": [
       "array([ 3.37716863e-02,  2.61264414e-01, -2.73952395e-01,  1.23338744e-01,\n",
       "        2.50962377e-01, -2.35927686e-01,  2.00090423e-01,  7.53617659e-02,\n",
       "       -4.16356981e-01, -4.57327396e-01,  5.61361194e-01, -4.39360321e-01,\n",
       "        5.12849987e-01,  1.44983426e-01, -2.13726968e-01, -1.97979197e-01,\n",
       "       -1.78530544e-01, -9.92362380e-01,  1.18893869e-01, -2.93677181e-01,\n",
       "        4.72320080e-01,  9.36350346e-01,  1.07040547e-01,  2.28509307e-01,\n",
       "        4.55254549e-03, -2.27900684e-01, -2.68549044e-02,  1.90464556e-01,\n",
       "       -5.50203063e-02,  3.24142545e-01,  1.43561125e-01, -3.06461126e-01,\n",
       "       -2.14945018e-01, -2.54977018e-01, -1.06103919e-01,  1.26707450e-01,\n",
       "       -2.77957499e-01,  2.05013618e-01, -2.39986256e-01, -3.87127310e-01,\n",
       "       -3.13668728e-01,  1.63824096e-01, -3.63538444e-01,  7.23175332e-02,\n",
       "       -8.70858207e-02,  1.78091377e-01, -9.71752629e-02, -2.12971509e-01,\n",
       "       -1.82012673e-02,  1.42404184e-01, -5.43593094e-02,  1.86905190e-02,\n",
       "        6.27141744e-02,  1.72278538e-01,  2.32964784e-01,  6.03440702e-01,\n",
       "        1.94566920e-01,  2.61217263e-02,  6.03695624e-02, -1.37986675e-01,\n",
       "        4.14999038e-01,  4.25260335e-01,  5.64319909e-01,  5.59662163e-01,\n",
       "       -3.09170783e-01,  3.50142807e-01, -2.92483389e-01, -1.08997643e-01,\n",
       "        2.10304290e-01, -6.14058517e-04,  1.12329215e-01,  5.26244752e-02,\n",
       "       -3.68689716e-01,  2.13484257e-01,  6.19885743e-01,  4.22160327e-02,\n",
       "       -3.43450576e-01, -1.41951501e-01,  6.25648141e-01, -4.44681555e-01,\n",
       "       -1.62280455e-01, -2.72496566e-02,  2.81978279e-01,  5.54282188e-01,\n",
       "        2.75528610e-01,  9.43589211e-03, -3.22515041e-01, -1.92989871e-01,\n",
       "        1.71737477e-01, -7.11054385e-01, -2.93296188e-01, -3.07894558e-01,\n",
       "        5.12602866e-01, -3.80230576e-01, -5.82294241e-02, -7.16168642e-01,\n",
       "        2.08516002e-01,  4.24287021e-01,  1.70477945e-02, -4.63678911e-02],\n",
       "      dtype=float32)"
      ]
     },
     "execution_count": 18,
     "metadata": {},
     "output_type": "execute_result"
    }
   ],
   "source": [
    "movie_vector"
   ]
  },
  {
   "cell_type": "code",
   "execution_count": 19,
   "id": "c2ca0ca2",
   "metadata": {},
   "outputs": [
    {
     "data": {
      "text/plain": [
       "array([ 2.3277488e-03,  3.1935235e-03,  2.9893229e-03,  5.9872158e-03,\n",
       "        3.3087861e-03,  4.1799522e-03,  3.2672025e-03,  6.9321417e-03,\n",
       "        2.8887419e-03,  1.5428233e-03,  1.1865296e-03,  9.2720281e-04,\n",
       "        1.4255100e-03,  3.4862366e-03,  5.3158263e-04,  3.6278232e-03,\n",
       "        2.1813417e-04, -6.2201777e-04,  8.1766935e-05,  6.8063667e-04,\n",
       "        2.4055343e-03,  3.9189570e-03,  3.7747924e-03, -4.0868274e-04,\n",
       "        4.9327607e-03,  3.1416665e-03,  1.2136921e-03,  3.8634492e-03,\n",
       "       -2.2503866e-03,  3.6916931e-03,  2.9942701e-03,  3.0273541e-05,\n",
       "        4.2926981e-03,  2.4201616e-03,  2.2503876e-03, -6.6465494e-05,\n",
       "        4.8909318e-03,  5.1922668e-03,  4.2951941e-03,  3.9980081e-03,\n",
       "       -3.1798547e-03, -2.7590713e-03, -6.8193396e-05,  6.1872597e-03,\n",
       "        4.4645965e-03,  2.8178990e-03, -5.5998648e-06,  4.2444267e-03,\n",
       "        1.4545746e-03,  3.1109792e-03,  1.9851462e-03,  2.6996247e-03,\n",
       "        3.4983503e-03, -4.9276825e-04,  7.6908799e-04,  1.0412930e-03,\n",
       "        4.8116129e-03,  2.9611543e-03,  3.3594212e-03,  3.0092055e-03,\n",
       "        1.0748012e-03,  2.5434191e-03,  3.6770026e-03,  7.3780706e-03,\n",
       "        1.2233800e-03,  1.4520338e-03,  2.6084739e-03,  2.4620611e-03,\n",
       "        2.8729034e-03,  4.6948781e-03,  2.6191249e-03,  4.6332119e-04,\n",
       "        3.8893204e-03,  1.0345308e-03,  3.1538862e-03,  2.0774053e-03,\n",
       "        2.8086468e-03, -2.4460421e-03,  3.8791592e-03,  3.7861352e-03,\n",
       "        4.0664077e-03,  1.0022373e-03,  4.6630239e-04,  8.5700065e-04,\n",
       "        2.0025328e-03,  3.4002804e-03,  1.7729854e-03,  4.9258047e-03,\n",
       "        6.4696133e-04,  4.9412362e-03,  4.0212283e-03, -1.6170181e-04,\n",
       "        2.8048190e-03,  9.5338713e-05, -1.4037533e-03,  4.7705118e-03,\n",
       "        3.9626439e-03,  5.3776917e-03,  4.2134030e-03,  2.4096426e-03],\n",
       "      dtype=float32)"
      ]
     },
     "execution_count": 19,
     "metadata": {},
     "output_type": "execute_result"
    }
   ],
   "source": [
    "my_favorite_vector"
   ]
  },
  {
   "cell_type": "code",
   "execution_count": 20,
   "id": "6b7bc039",
   "metadata": {},
   "outputs": [
    {
     "data": {
      "text/plain": [
       "0.0098220045"
      ]
     },
     "execution_count": 20,
     "metadata": {},
     "output_type": "execute_result"
    }
   ],
   "source": [
    "np.dot(movie_vector, my_favorite_vector)"
   ]
  },
  {
   "cell_type": "code",
   "execution_count": 23,
   "id": "0f844741",
   "metadata": {},
   "outputs": [
    {
     "data": {
      "text/plain": [
       "[(2010, 1.0000002),\n",
       " (1348, 0.65514374),\n",
       " (3503, 0.62403494),\n",
       " (3658, 0.60382265),\n",
       " (3340, 0.59451926),\n",
       " (2660, 0.5925284),\n",
       " (2661, 0.56625235),\n",
       " (1199, 0.56321794),\n",
       " (1260, 0.5557135),\n",
       " (1301, 0.5452981),\n",
       " (1924, 0.5436785),\n",
       " (2363, 0.5417392),\n",
       " (3659, 0.5358834),\n",
       " (2666, 0.53568625),\n",
       " (1306, 0.52338)]"
      ]
     },
     "execution_count": 23,
     "metadata": {},
     "output_type": "execute_result"
    }
   ],
   "source": [
    "# 비슷한 영화 찾기\n",
    "my_favorite_movie_id = 2010\n",
    "similar_movie = als_model.similar_items(my_favorite_movie_id, N=15)\n",
    "similar_movie"
   ]
  },
  {
   "cell_type": "code",
   "execution_count": 42,
   "id": "4a586d35",
   "metadata": {},
   "outputs": [
    {
     "data": {
      "text/plain": [
       "['Metropolis (1926)',\n",
       " 'Nosferatu (Nosferatu, eine Symphonie des Grauens) (1922)',\n",
       " 'Solaris (Solyaris) (1972)',\n",
       " 'Quatermass and the Pit (1967)',\n",
       " 'Bride of the Monster (1956)',\n",
       " 'Thing From Another World, The (1951)',\n",
       " 'It Came from Outer Space (1953)',\n",
       " 'Brazil (1985)',\n",
       " 'M (1931)',\n",
       " 'Forbidden Planet (1956)',\n",
       " 'Plan 9 from Outer Space (1958)',\n",
       " 'Godzilla (Gojira) (1954)',\n",
       " 'Quatermass II (1957)',\n",
       " 'It Conquered the World (1956)',\n",
       " 'Until the End of the World (Bis ans Ende der Welt) (1991)']"
      ]
     },
     "execution_count": 42,
     "metadata": {},
     "output_type": "execute_result"
    }
   ],
   "source": [
    "#idx_to_movie = {v:k for k,v in movie_to_idx.items()} -> 키가 전부 다 들어가있지 않다.\n",
    "idx_to_movie = {}\n",
    "for i in range(len(movies)):\n",
    "    idx_to_movie[movies['movie_id'][i]] = movies['title'][i]\n",
    "    \n",
    "\n",
    "movie_to_idx = {}\n",
    "for k, v in idx_to_movie.items():\n",
    "    movie_to_idx[v] = k\n",
    "    \n",
    "[idx_to_movie[i[0]] for i in similar_movie]"
   ]
  },
  {
   "cell_type": "code",
   "execution_count": 43,
   "id": "9b9ce815",
   "metadata": {},
   "outputs": [],
   "source": [
    "def get_similar_movie(movie_name: str):\n",
    "    movie_id = movie_to_idx[movie_name]\n",
    "    similar_movie = als_model.similar_items(movie_id)\n",
    "    similar_movie = [idx_to_movie[i[0]] for i in similar_movie]\n",
    "    return similar_movie"
   ]
  },
  {
   "cell_type": "code",
   "execution_count": 44,
   "id": "e4480f92",
   "metadata": {},
   "outputs": [
    {
     "data": {
      "text/plain": [
       "['Toy Story (1995)',\n",
       " 'Toy Story 2 (1999)',\n",
       " 'Aladdin (1992)',\n",
       " 'Groundhog Day (1993)',\n",
       " \"Bug's Life, A (1998)\",\n",
       " 'Babe (1995)',\n",
       " 'Lion King, The (1994)',\n",
       " 'Beauty and the Beast (1991)',\n",
       " \"There's Something About Mary (1998)\",\n",
       " 'Pleasantville (1998)']"
      ]
     },
     "execution_count": 44,
     "metadata": {},
     "output_type": "execute_result"
    }
   ],
   "source": [
    "get_similar_movie('Toy Story (1995)')"
   ]
  },
  {
   "cell_type": "markdown",
   "id": "0fbf79a0",
   "metadata": {},
   "source": [
    "## 회고\n",
    "\n",
    "비슷한 영화를 찾아서 추천해주는 부분뺴면 크게 어려운 부분은 없었다. 배운것에 대해 활용을 잘 못해서 그런지 해결하는데 시간이 꽤나 걸렸다. 좋아하는 영화를 추가하는 부분에서 위에서처럼 movie_id로 추가해주지 않고 영화이름이랑 연도를 나타내서 추가해보려 했는데 하지 못했다. 일단 완성은 시켜야 하니까. 그 부분에서 거의 하루를 날린거 같다. 구조에 대한 이해도가 부족해서인지 활용하는데 어려움이 많다."
   ]
  },
  {
   "cell_type": "code",
   "execution_count": null,
   "id": "9ec3fbda",
   "metadata": {},
   "outputs": [],
   "source": []
  }
 ],
 "metadata": {
  "kernelspec": {
   "display_name": "Python 3 (ipykernel)",
   "language": "python",
   "name": "python3"
  },
  "language_info": {
   "codemirror_mode": {
    "name": "ipython",
    "version": 3
   },
   "file_extension": ".py",
   "mimetype": "text/x-python",
   "name": "python",
   "nbconvert_exporter": "python",
   "pygments_lexer": "ipython3",
   "version": "3.9.7"
  }
 },
 "nbformat": 4,
 "nbformat_minor": 5
}
